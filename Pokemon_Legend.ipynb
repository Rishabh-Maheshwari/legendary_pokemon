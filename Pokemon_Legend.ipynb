{
 "cells": [
  {
   "cell_type": "code",
   "execution_count": 154,
   "metadata": {},
   "outputs": [],
   "source": [
    "import pandas as pd\n",
    "import numpy as np\n",
    "import matplotlib.pyplot as plt\n",
    "import seaborn as sns\n",
    "%matplotlib inline\n",
    "from sklearn.metrics import accuracy_score\n",
    "import warnings\n",
    "warnings.filterwarnings(\"ignore\")"
   ]
  },
  {
   "cell_type": "code",
   "execution_count": 155,
   "metadata": {},
   "outputs": [
    {
     "data": {
      "text/html": [
       "<div>\n",
       "<style scoped>\n",
       "    .dataframe tbody tr th:only-of-type {\n",
       "        vertical-align: middle;\n",
       "    }\n",
       "\n",
       "    .dataframe tbody tr th {\n",
       "        vertical-align: top;\n",
       "    }\n",
       "\n",
       "    .dataframe thead th {\n",
       "        text-align: right;\n",
       "    }\n",
       "</style>\n",
       "<table border=\"1\" class=\"dataframe\">\n",
       "  <thead>\n",
       "    <tr style=\"text-align: right;\">\n",
       "      <th></th>\n",
       "      <th>abilities</th>\n",
       "      <th>against_bug</th>\n",
       "      <th>against_dark</th>\n",
       "      <th>against_dragon</th>\n",
       "      <th>against_electric</th>\n",
       "      <th>against_fairy</th>\n",
       "      <th>against_fight</th>\n",
       "      <th>against_fire</th>\n",
       "      <th>against_flying</th>\n",
       "      <th>against_ghost</th>\n",
       "      <th>...</th>\n",
       "      <th>percentage_male</th>\n",
       "      <th>pokedex_number</th>\n",
       "      <th>sp_attack</th>\n",
       "      <th>sp_defense</th>\n",
       "      <th>speed</th>\n",
       "      <th>type1</th>\n",
       "      <th>type2</th>\n",
       "      <th>weight_kg</th>\n",
       "      <th>generation</th>\n",
       "      <th>is_legendary</th>\n",
       "    </tr>\n",
       "  </thead>\n",
       "  <tbody>\n",
       "    <tr>\n",
       "      <th>0</th>\n",
       "      <td>['Overgrow', 'Chlorophyll']</td>\n",
       "      <td>1.0</td>\n",
       "      <td>1.0</td>\n",
       "      <td>1.0</td>\n",
       "      <td>0.5</td>\n",
       "      <td>0.5</td>\n",
       "      <td>0.5</td>\n",
       "      <td>2.0</td>\n",
       "      <td>2.0</td>\n",
       "      <td>1.0</td>\n",
       "      <td>...</td>\n",
       "      <td>88.1</td>\n",
       "      <td>1</td>\n",
       "      <td>65</td>\n",
       "      <td>65</td>\n",
       "      <td>45</td>\n",
       "      <td>grass</td>\n",
       "      <td>poison</td>\n",
       "      <td>6.9</td>\n",
       "      <td>1</td>\n",
       "      <td>0</td>\n",
       "    </tr>\n",
       "    <tr>\n",
       "      <th>1</th>\n",
       "      <td>['Overgrow', 'Chlorophyll']</td>\n",
       "      <td>1.0</td>\n",
       "      <td>1.0</td>\n",
       "      <td>1.0</td>\n",
       "      <td>0.5</td>\n",
       "      <td>0.5</td>\n",
       "      <td>0.5</td>\n",
       "      <td>2.0</td>\n",
       "      <td>2.0</td>\n",
       "      <td>1.0</td>\n",
       "      <td>...</td>\n",
       "      <td>88.1</td>\n",
       "      <td>2</td>\n",
       "      <td>80</td>\n",
       "      <td>80</td>\n",
       "      <td>60</td>\n",
       "      <td>grass</td>\n",
       "      <td>poison</td>\n",
       "      <td>13.0</td>\n",
       "      <td>1</td>\n",
       "      <td>0</td>\n",
       "    </tr>\n",
       "    <tr>\n",
       "      <th>2</th>\n",
       "      <td>['Overgrow', 'Chlorophyll']</td>\n",
       "      <td>1.0</td>\n",
       "      <td>1.0</td>\n",
       "      <td>1.0</td>\n",
       "      <td>0.5</td>\n",
       "      <td>0.5</td>\n",
       "      <td>0.5</td>\n",
       "      <td>2.0</td>\n",
       "      <td>2.0</td>\n",
       "      <td>1.0</td>\n",
       "      <td>...</td>\n",
       "      <td>88.1</td>\n",
       "      <td>3</td>\n",
       "      <td>122</td>\n",
       "      <td>120</td>\n",
       "      <td>80</td>\n",
       "      <td>grass</td>\n",
       "      <td>poison</td>\n",
       "      <td>100.0</td>\n",
       "      <td>1</td>\n",
       "      <td>0</td>\n",
       "    </tr>\n",
       "    <tr>\n",
       "      <th>3</th>\n",
       "      <td>['Blaze', 'Solar Power']</td>\n",
       "      <td>0.5</td>\n",
       "      <td>1.0</td>\n",
       "      <td>1.0</td>\n",
       "      <td>1.0</td>\n",
       "      <td>0.5</td>\n",
       "      <td>1.0</td>\n",
       "      <td>0.5</td>\n",
       "      <td>1.0</td>\n",
       "      <td>1.0</td>\n",
       "      <td>...</td>\n",
       "      <td>88.1</td>\n",
       "      <td>4</td>\n",
       "      <td>60</td>\n",
       "      <td>50</td>\n",
       "      <td>65</td>\n",
       "      <td>fire</td>\n",
       "      <td>NaN</td>\n",
       "      <td>8.5</td>\n",
       "      <td>1</td>\n",
       "      <td>0</td>\n",
       "    </tr>\n",
       "    <tr>\n",
       "      <th>4</th>\n",
       "      <td>['Blaze', 'Solar Power']</td>\n",
       "      <td>0.5</td>\n",
       "      <td>1.0</td>\n",
       "      <td>1.0</td>\n",
       "      <td>1.0</td>\n",
       "      <td>0.5</td>\n",
       "      <td>1.0</td>\n",
       "      <td>0.5</td>\n",
       "      <td>1.0</td>\n",
       "      <td>1.0</td>\n",
       "      <td>...</td>\n",
       "      <td>88.1</td>\n",
       "      <td>5</td>\n",
       "      <td>80</td>\n",
       "      <td>65</td>\n",
       "      <td>80</td>\n",
       "      <td>fire</td>\n",
       "      <td>NaN</td>\n",
       "      <td>19.0</td>\n",
       "      <td>1</td>\n",
       "      <td>0</td>\n",
       "    </tr>\n",
       "  </tbody>\n",
       "</table>\n",
       "<p>5 rows × 41 columns</p>\n",
       "</div>"
      ],
      "text/plain": [
       "                     abilities  against_bug  against_dark  against_dragon  \\\n",
       "0  ['Overgrow', 'Chlorophyll']          1.0           1.0             1.0   \n",
       "1  ['Overgrow', 'Chlorophyll']          1.0           1.0             1.0   \n",
       "2  ['Overgrow', 'Chlorophyll']          1.0           1.0             1.0   \n",
       "3     ['Blaze', 'Solar Power']          0.5           1.0             1.0   \n",
       "4     ['Blaze', 'Solar Power']          0.5           1.0             1.0   \n",
       "\n",
       "   against_electric  against_fairy  against_fight  against_fire  \\\n",
       "0               0.5            0.5            0.5           2.0   \n",
       "1               0.5            0.5            0.5           2.0   \n",
       "2               0.5            0.5            0.5           2.0   \n",
       "3               1.0            0.5            1.0           0.5   \n",
       "4               1.0            0.5            1.0           0.5   \n",
       "\n",
       "   against_flying  against_ghost  ...  percentage_male  pokedex_number  \\\n",
       "0             2.0            1.0  ...             88.1               1   \n",
       "1             2.0            1.0  ...             88.1               2   \n",
       "2             2.0            1.0  ...             88.1               3   \n",
       "3             1.0            1.0  ...             88.1               4   \n",
       "4             1.0            1.0  ...             88.1               5   \n",
       "\n",
       "   sp_attack  sp_defense  speed  type1   type2  weight_kg  generation  \\\n",
       "0         65          65     45  grass  poison        6.9           1   \n",
       "1         80          80     60  grass  poison       13.0           1   \n",
       "2        122         120     80  grass  poison      100.0           1   \n",
       "3         60          50     65   fire     NaN        8.5           1   \n",
       "4         80          65     80   fire     NaN       19.0           1   \n",
       "\n",
       "   is_legendary  \n",
       "0             0  \n",
       "1             0  \n",
       "2             0  \n",
       "3             0  \n",
       "4             0  \n",
       "\n",
       "[5 rows x 41 columns]"
      ]
     },
     "execution_count": 155,
     "metadata": {},
     "output_type": "execute_result"
    }
   ],
   "source": [
    "df = pd.read_csv(\"/dataset/pokemon.csv\")\n",
    "df.head()"
   ]
  },
  {
   "cell_type": "code",
   "execution_count": 156,
   "metadata": {},
   "outputs": [
    {
     "name": "stdout",
     "output_type": "stream",
     "text": [
      "70\n",
      "731\n"
     ]
    }
   ],
   "source": [
    "print(sum(df[\"is_legendary\"]==1))\n",
    "print(sum(df[\"is_legendary\"]==0))"
   ]
  },
  {
   "cell_type": "code",
   "execution_count": 157,
   "metadata": {},
   "outputs": [
    {
     "data": {
      "text/html": [
       "<div>\n",
       "<style scoped>\n",
       "    .dataframe tbody tr th:only-of-type {\n",
       "        vertical-align: middle;\n",
       "    }\n",
       "\n",
       "    .dataframe tbody tr th {\n",
       "        vertical-align: top;\n",
       "    }\n",
       "\n",
       "    .dataframe thead th {\n",
       "        text-align: right;\n",
       "    }\n",
       "</style>\n",
       "<table border=\"1\" class=\"dataframe\">\n",
       "  <thead>\n",
       "    <tr style=\"text-align: right;\">\n",
       "      <th></th>\n",
       "      <th>percent_missing</th>\n",
       "    </tr>\n",
       "  </thead>\n",
       "  <tbody>\n",
       "    <tr>\n",
       "      <th>abilities</th>\n",
       "      <td>0.000000</td>\n",
       "    </tr>\n",
       "    <tr>\n",
       "      <th>against_bug</th>\n",
       "      <td>0.000000</td>\n",
       "    </tr>\n",
       "    <tr>\n",
       "      <th>against_dark</th>\n",
       "      <td>0.000000</td>\n",
       "    </tr>\n",
       "    <tr>\n",
       "      <th>against_dragon</th>\n",
       "      <td>0.000000</td>\n",
       "    </tr>\n",
       "    <tr>\n",
       "      <th>against_electric</th>\n",
       "      <td>0.000000</td>\n",
       "    </tr>\n",
       "    <tr>\n",
       "      <th>against_fairy</th>\n",
       "      <td>0.000000</td>\n",
       "    </tr>\n",
       "    <tr>\n",
       "      <th>against_fight</th>\n",
       "      <td>0.000000</td>\n",
       "    </tr>\n",
       "    <tr>\n",
       "      <th>against_fire</th>\n",
       "      <td>0.000000</td>\n",
       "    </tr>\n",
       "    <tr>\n",
       "      <th>against_flying</th>\n",
       "      <td>0.000000</td>\n",
       "    </tr>\n",
       "    <tr>\n",
       "      <th>against_ghost</th>\n",
       "      <td>0.000000</td>\n",
       "    </tr>\n",
       "    <tr>\n",
       "      <th>against_grass</th>\n",
       "      <td>0.000000</td>\n",
       "    </tr>\n",
       "    <tr>\n",
       "      <th>against_ground</th>\n",
       "      <td>0.000000</td>\n",
       "    </tr>\n",
       "    <tr>\n",
       "      <th>against_ice</th>\n",
       "      <td>0.000000</td>\n",
       "    </tr>\n",
       "    <tr>\n",
       "      <th>against_normal</th>\n",
       "      <td>0.000000</td>\n",
       "    </tr>\n",
       "    <tr>\n",
       "      <th>against_poison</th>\n",
       "      <td>0.000000</td>\n",
       "    </tr>\n",
       "    <tr>\n",
       "      <th>against_psychic</th>\n",
       "      <td>0.000000</td>\n",
       "    </tr>\n",
       "    <tr>\n",
       "      <th>against_rock</th>\n",
       "      <td>0.000000</td>\n",
       "    </tr>\n",
       "    <tr>\n",
       "      <th>against_steel</th>\n",
       "      <td>0.000000</td>\n",
       "    </tr>\n",
       "    <tr>\n",
       "      <th>against_water</th>\n",
       "      <td>0.000000</td>\n",
       "    </tr>\n",
       "    <tr>\n",
       "      <th>attack</th>\n",
       "      <td>0.000000</td>\n",
       "    </tr>\n",
       "    <tr>\n",
       "      <th>base_egg_steps</th>\n",
       "      <td>0.000000</td>\n",
       "    </tr>\n",
       "    <tr>\n",
       "      <th>base_happiness</th>\n",
       "      <td>0.000000</td>\n",
       "    </tr>\n",
       "    <tr>\n",
       "      <th>base_total</th>\n",
       "      <td>0.000000</td>\n",
       "    </tr>\n",
       "    <tr>\n",
       "      <th>capture_rate</th>\n",
       "      <td>0.000000</td>\n",
       "    </tr>\n",
       "    <tr>\n",
       "      <th>classfication</th>\n",
       "      <td>0.000000</td>\n",
       "    </tr>\n",
       "    <tr>\n",
       "      <th>defense</th>\n",
       "      <td>0.000000</td>\n",
       "    </tr>\n",
       "    <tr>\n",
       "      <th>experience_growth</th>\n",
       "      <td>0.000000</td>\n",
       "    </tr>\n",
       "    <tr>\n",
       "      <th>height_m</th>\n",
       "      <td>2.496879</td>\n",
       "    </tr>\n",
       "    <tr>\n",
       "      <th>hp</th>\n",
       "      <td>0.000000</td>\n",
       "    </tr>\n",
       "    <tr>\n",
       "      <th>japanese_name</th>\n",
       "      <td>0.000000</td>\n",
       "    </tr>\n",
       "    <tr>\n",
       "      <th>name</th>\n",
       "      <td>0.000000</td>\n",
       "    </tr>\n",
       "    <tr>\n",
       "      <th>percentage_male</th>\n",
       "      <td>12.234707</td>\n",
       "    </tr>\n",
       "    <tr>\n",
       "      <th>pokedex_number</th>\n",
       "      <td>0.000000</td>\n",
       "    </tr>\n",
       "    <tr>\n",
       "      <th>sp_attack</th>\n",
       "      <td>0.000000</td>\n",
       "    </tr>\n",
       "    <tr>\n",
       "      <th>sp_defense</th>\n",
       "      <td>0.000000</td>\n",
       "    </tr>\n",
       "    <tr>\n",
       "      <th>speed</th>\n",
       "      <td>0.000000</td>\n",
       "    </tr>\n",
       "    <tr>\n",
       "      <th>type1</th>\n",
       "      <td>0.000000</td>\n",
       "    </tr>\n",
       "    <tr>\n",
       "      <th>type2</th>\n",
       "      <td>47.940075</td>\n",
       "    </tr>\n",
       "    <tr>\n",
       "      <th>weight_kg</th>\n",
       "      <td>2.496879</td>\n",
       "    </tr>\n",
       "    <tr>\n",
       "      <th>generation</th>\n",
       "      <td>0.000000</td>\n",
       "    </tr>\n",
       "    <tr>\n",
       "      <th>is_legendary</th>\n",
       "      <td>0.000000</td>\n",
       "    </tr>\n",
       "  </tbody>\n",
       "</table>\n",
       "</div>"
      ],
      "text/plain": [
       "                   percent_missing\n",
       "abilities                 0.000000\n",
       "against_bug               0.000000\n",
       "against_dark              0.000000\n",
       "against_dragon            0.000000\n",
       "against_electric          0.000000\n",
       "against_fairy             0.000000\n",
       "against_fight             0.000000\n",
       "against_fire              0.000000\n",
       "against_flying            0.000000\n",
       "against_ghost             0.000000\n",
       "against_grass             0.000000\n",
       "against_ground            0.000000\n",
       "against_ice               0.000000\n",
       "against_normal            0.000000\n",
       "against_poison            0.000000\n",
       "against_psychic           0.000000\n",
       "against_rock              0.000000\n",
       "against_steel             0.000000\n",
       "against_water             0.000000\n",
       "attack                    0.000000\n",
       "base_egg_steps            0.000000\n",
       "base_happiness            0.000000\n",
       "base_total                0.000000\n",
       "capture_rate              0.000000\n",
       "classfication             0.000000\n",
       "defense                   0.000000\n",
       "experience_growth         0.000000\n",
       "height_m                  2.496879\n",
       "hp                        0.000000\n",
       "japanese_name             0.000000\n",
       "name                      0.000000\n",
       "percentage_male          12.234707\n",
       "pokedex_number            0.000000\n",
       "sp_attack                 0.000000\n",
       "sp_defense                0.000000\n",
       "speed                     0.000000\n",
       "type1                     0.000000\n",
       "type2                    47.940075\n",
       "weight_kg                 2.496879\n",
       "generation                0.000000\n",
       "is_legendary              0.000000"
      ]
     },
     "execution_count": 157,
     "metadata": {},
     "output_type": "execute_result"
    }
   ],
   "source": [
    "    percent_missing = df.isnull().sum()*100/len(df)\n",
    "    missing_value_df = pd.DataFrame({'percent_missing':percent_missing})\n",
    "    \n",
    "    missing_value_df"
   ]
  },
  {
   "cell_type": "code",
   "execution_count": 158,
   "metadata": {},
   "outputs": [],
   "source": [
    "mean_value=df['height_m'].mean()\n",
    "df['height_m']=df['height_m'].fillna(mean_value)\n",
    "mean_value=df['percentage_male'].mean()\n",
    "df['percentage_male']=df['percentage_male'].fillna(mean_value)\n",
    "df['type2']=df['type2'].fillna(\"No\")\n",
    "mean_value=df['weight_kg'].mean()\n",
    "df['weight_kg']=df['weight_kg'].fillna(mean_value)"
   ]
  },
  {
   "cell_type": "code",
   "execution_count": 159,
   "metadata": {},
   "outputs": [],
   "source": [
    "#df.head()"
   ]
  },
  {
   "cell_type": "code",
   "execution_count": 160,
   "metadata": {},
   "outputs": [],
   "source": [
    "from ast import literal_eval\n",
    "#print(len(literal_eval(df[\"abilities\"][800])))"
   ]
  },
  {
   "cell_type": "code",
   "execution_count": 161,
   "metadata": {},
   "outputs": [
    {
     "name": "stdout",
     "output_type": "stream",
     "text": [
      "6\n"
     ]
    }
   ],
   "source": [
    "max_len = 0\n",
    "j=0\n",
    "for i in df[\"abilities\"]:\n",
    "    if max_len<len(literal_eval(df[\"abilities\"][j])):\n",
    "        max_len = len(literal_eval(df[\"abilities\"][j]))\n",
    "    df[\"abilities\"][j] = literal_eval(df[\"abilities\"][j])\n",
    "    j=j+1\n",
    "print(max_len)"
   ]
  },
  {
   "cell_type": "code",
   "execution_count": 162,
   "metadata": {},
   "outputs": [
    {
     "name": "stdout",
     "output_type": "stream",
     "text": [
      "Sniper\n"
     ]
    }
   ],
   "source": [
    "df = df.join(pd.DataFrame(df.abilities.values.tolist()).add_prefix('abilities_'))\n",
    "df.head()\n",
    "print(df[\"abilities_1\"][14])"
   ]
  },
  {
   "cell_type": "code",
   "execution_count": 163,
   "metadata": {},
   "outputs": [],
   "source": [
    "df['abilities_1']=df['abilities_1'].fillna(\"No\")\n",
    "df['abilities_2']=df['abilities_2'].fillna(\"No\")\n",
    "df['abilities_3']=df['abilities_3'].fillna(\"No\")\n",
    "df['abilities_4']=df['abilities_4'].fillna(\"No\")\n",
    "df['abilities_5']=df['abilities_5'].fillna(\"No\")"
   ]
  },
  {
   "cell_type": "code",
   "execution_count": 164,
   "metadata": {},
   "outputs": [
    {
     "data": {
      "image/png": "[encoded data removed]",
      "text/plain": [
       "<Figure size 1080x864 with 44 Axes>"
      ]
     },
     "metadata": {
      "needs_background": "light"
     },
     "output_type": "display_data"
    }
   ],
   "source": [
    "df2 = df.drop(columns = ['abilities','japanese_name','name'])\n",
    "fig = plt.figure(figsize=(15,12))\n",
    "plt.suptitle(\"Histograms of numerical columns\",fontsize=20)\n",
    "for i in range(df2.shape[1]):\n",
    "    plt.subplot(25,2,i+1)\n",
    "    f = plt.gca()\n",
    "    f.set_title(df2.columns.values[i])\n",
    "    vals = np.size(df2.iloc[:,i].unique())\n",
    "    if vals>=100:\n",
    "        vals=100\n",
    "    plt.hist(df2.iloc[:,i],bins=vals, color=\"#3F5D7D\")\n",
    "plt.tight_layout(rect=[0,0.3,1,0.95])"
   ]
  },
  {
   "cell_type": "code",
   "execution_count": 165,
   "metadata": {},
   "outputs": [
    {
     "data": {
      "text/plain": [
       "<matplotlib.axes._subplots.AxesSubplot at 0x7fa6bdc178d0>"
      ]
     },
     "execution_count": 165,
     "metadata": {},
     "output_type": "execute_result"
    },
    {
     "data": {
      "image/png": "[encoded data removed]",
      "text/plain": [
       "<Figure size 1440x720 with 1 Axes>"
      ]
     },
     "metadata": {
      "needs_background": "light"
     },
     "output_type": "display_data"
    }
   ],
   "source": [
    "df2.corrwith(df.is_legendary).plot.bar(figsize=(20,10),title=\"correlation of legendary\",fontsize=20,rot=45,grid=True,color=['pink','green','blue','cyan','magenta'])"
   ]
  },
  {
   "cell_type": "code",
   "execution_count": 166,
   "metadata": {},
   "outputs": [],
   "source": [
    "data = df2\n",
    "dummy =  pd.get_dummies(data[\"classfication\"])"
   ]
  },
  {
   "cell_type": "code",
   "execution_count": 167,
   "metadata": {},
   "outputs": [],
   "source": [
    "#dummy"
   ]
  },
  {
   "cell_type": "code",
   "execution_count": 168,
   "metadata": {},
   "outputs": [],
   "source": [
    "data=data.drop([\"classfication\"],axis=1)"
   ]
  },
  {
   "cell_type": "code",
   "execution_count": 169,
   "metadata": {},
   "outputs": [
    {
     "data": {
      "text/plain": [
       "(801, 43)"
      ]
     },
     "execution_count": 169,
     "metadata": {},
     "output_type": "execute_result"
    }
   ],
   "source": [
    "data.shape"
   ]
  },
  {
   "cell_type": "code",
   "execution_count": 170,
   "metadata": {},
   "outputs": [],
   "source": [
    "data = data.join(dummy)"
   ]
  },
  {
   "cell_type": "code",
   "execution_count": 171,
   "metadata": {},
   "outputs": [
    {
     "data": {
      "text/plain": [
       "(801, 631)"
      ]
     },
     "execution_count": 171,
     "metadata": {},
     "output_type": "execute_result"
    }
   ],
   "source": [
    "data.shape"
   ]
  },
  {
   "cell_type": "code",
   "execution_count": 172,
   "metadata": {},
   "outputs": [],
   "source": [
    "#data.columns"
   ]
  },
  {
   "cell_type": "code",
   "execution_count": 173,
   "metadata": {},
   "outputs": [],
   "source": [
    "dummy =  pd.get_dummies(data[\"type1\"])"
   ]
  },
  {
   "cell_type": "code",
   "execution_count": 174,
   "metadata": {},
   "outputs": [],
   "source": [
    "#dummy"
   ]
  },
  {
   "cell_type": "code",
   "execution_count": 175,
   "metadata": {},
   "outputs": [],
   "source": [
    "#data=data.drop([\"type1\"],axis=1)"
   ]
  },
  {
   "cell_type": "code",
   "execution_count": 176,
   "metadata": {},
   "outputs": [],
   "source": [
    "dummy2 =  pd.get_dummies(data[\"type2\"])"
   ]
  },
  {
   "cell_type": "code",
   "execution_count": 177,
   "metadata": {},
   "outputs": [],
   "source": [
    "for i in dummy.columns:\n",
    "    if i in dummy2.columns:\n",
    "        for j in range(0,len(dummy.index)):\n",
    "            dummy[i][j] = dummy[i][j] | dummy2[i][j]\n",
    "        dummy2 = dummy2.drop([i],axis=1)"
   ]
  },
  {
   "cell_type": "code",
   "execution_count": 178,
   "metadata": {},
   "outputs": [],
   "source": [
    "data = data.join(dummy)"
   ]
  },
  {
   "cell_type": "code",
   "execution_count": 179,
   "metadata": {},
   "outputs": [
    {
     "data": {
      "text/plain": [
       "(801, 649)"
      ]
     },
     "execution_count": 179,
     "metadata": {},
     "output_type": "execute_result"
    }
   ],
   "source": [
    "data.shape"
   ]
  },
  {
   "cell_type": "code",
   "execution_count": 180,
   "metadata": {},
   "outputs": [],
   "source": [
    "data=data.drop([\"type2\"],axis=1)"
   ]
  },
  {
   "cell_type": "code",
   "execution_count": 181,
   "metadata": {},
   "outputs": [],
   "source": [
    "data=data.drop([\"type1\"],axis=1)"
   ]
  },
  {
   "cell_type": "code",
   "execution_count": 182,
   "metadata": {},
   "outputs": [],
   "source": [
    "ability_df = df2.filter(regex=(\"abilities_.*\"))"
   ]
  },
  {
   "cell_type": "code",
   "execution_count": 183,
   "metadata": {},
   "outputs": [],
   "source": [
    "ability_df.columns[0]\n",
    "dummy = pd.get_dummies(data[ability_df.columns[0]])\n",
    "if \"No\" in dummy.columns:\n",
    "    dummy.drop([\"No\"],axis=1)\n",
    "for i in range(1,len(ability_df.columns)):\n",
    "    dummy2 = pd.get_dummies(data[ability_df.columns[i]])\n",
    "    if \"No\" in dummy2.columns:\n",
    "        dummy2.drop([\"No\"],axis=1)\n",
    "    for k in dummy2.columns:\n",
    "        if k in dummy.columns:\n",
    "            for j in range(0,len(dummy.index)):\n",
    "                dummy[k][j] = dummy[k][j] | dummy2[k][j]\n",
    "        else:\n",
    "            dummy[k]=dummy2[k][:]"
   ]
  },
  {
   "cell_type": "code",
   "execution_count": 184,
   "metadata": {},
   "outputs": [],
   "source": [
    "#dummy2 =  pd.get_dummies(data[\"abilities_1\"])\n",
    "data = data.join(dummy)"
   ]
  },
  {
   "cell_type": "code",
   "execution_count": 185,
   "metadata": {},
   "outputs": [
    {
     "data": {
      "text/plain": [
       "(801, 875)"
      ]
     },
     "execution_count": 185,
     "metadata": {},
     "output_type": "execute_result"
    }
   ],
   "source": [
    "data.shape"
   ]
  },
  {
   "cell_type": "code",
   "execution_count": 186,
   "metadata": {},
   "outputs": [],
   "source": [
    "data=data.drop(ability_df.columns,axis=1)"
   ]
  },
  {
   "cell_type": "code",
   "execution_count": 187,
   "metadata": {},
   "outputs": [
    {
     "data": {
      "text/html": [
       "<div>\n",
       "<style scoped>\n",
       "    .dataframe tbody tr th:only-of-type {\n",
       "        vertical-align: middle;\n",
       "    }\n",
       "\n",
       "    .dataframe tbody tr th {\n",
       "        vertical-align: top;\n",
       "    }\n",
       "\n",
       "    .dataframe thead th {\n",
       "        text-align: right;\n",
       "    }\n",
       "</style>\n",
       "<table border=\"1\" class=\"dataframe\">\n",
       "  <thead>\n",
       "    <tr style=\"text-align: right;\">\n",
       "      <th></th>\n",
       "      <th>against_bug</th>\n",
       "      <th>against_dark</th>\n",
       "      <th>against_dragon</th>\n",
       "      <th>against_electric</th>\n",
       "      <th>against_fairy</th>\n",
       "      <th>against_fight</th>\n",
       "      <th>against_fire</th>\n",
       "      <th>against_flying</th>\n",
       "      <th>against_ghost</th>\n",
       "      <th>against_grass</th>\n",
       "      <th>...</th>\n",
       "      <th>Analytic</th>\n",
       "      <th>Battle Bond</th>\n",
       "      <th>Flare Boost</th>\n",
       "      <th>Gooey</th>\n",
       "      <th>Heavy Metal</th>\n",
       "      <th>Moody</th>\n",
       "      <th>Surge Surfer</th>\n",
       "      <th>Tangling Hair</th>\n",
       "      <th>Galvanize</th>\n",
       "      <th>Power of Alchemy</th>\n",
       "    </tr>\n",
       "  </thead>\n",
       "  <tbody>\n",
       "    <tr>\n",
       "      <th>0</th>\n",
       "      <td>1.0</td>\n",
       "      <td>1.0</td>\n",
       "      <td>1.0</td>\n",
       "      <td>0.5</td>\n",
       "      <td>0.5</td>\n",
       "      <td>0.5</td>\n",
       "      <td>2.0</td>\n",
       "      <td>2.0</td>\n",
       "      <td>1.0</td>\n",
       "      <td>0.25</td>\n",
       "      <td>...</td>\n",
       "      <td>0</td>\n",
       "      <td>0</td>\n",
       "      <td>0</td>\n",
       "      <td>0</td>\n",
       "      <td>0</td>\n",
       "      <td>0</td>\n",
       "      <td>0</td>\n",
       "      <td>0</td>\n",
       "      <td>0</td>\n",
       "      <td>0</td>\n",
       "    </tr>\n",
       "    <tr>\n",
       "      <th>1</th>\n",
       "      <td>1.0</td>\n",
       "      <td>1.0</td>\n",
       "      <td>1.0</td>\n",
       "      <td>0.5</td>\n",
       "      <td>0.5</td>\n",
       "      <td>0.5</td>\n",
       "      <td>2.0</td>\n",
       "      <td>2.0</td>\n",
       "      <td>1.0</td>\n",
       "      <td>0.25</td>\n",
       "      <td>...</td>\n",
       "      <td>0</td>\n",
       "      <td>0</td>\n",
       "      <td>0</td>\n",
       "      <td>0</td>\n",
       "      <td>0</td>\n",
       "      <td>0</td>\n",
       "      <td>0</td>\n",
       "      <td>0</td>\n",
       "      <td>0</td>\n",
       "      <td>0</td>\n",
       "    </tr>\n",
       "    <tr>\n",
       "      <th>2</th>\n",
       "      <td>1.0</td>\n",
       "      <td>1.0</td>\n",
       "      <td>1.0</td>\n",
       "      <td>0.5</td>\n",
       "      <td>0.5</td>\n",
       "      <td>0.5</td>\n",
       "      <td>2.0</td>\n",
       "      <td>2.0</td>\n",
       "      <td>1.0</td>\n",
       "      <td>0.25</td>\n",
       "      <td>...</td>\n",
       "      <td>0</td>\n",
       "      <td>0</td>\n",
       "      <td>0</td>\n",
       "      <td>0</td>\n",
       "      <td>0</td>\n",
       "      <td>0</td>\n",
       "      <td>0</td>\n",
       "      <td>0</td>\n",
       "      <td>0</td>\n",
       "      <td>0</td>\n",
       "    </tr>\n",
       "    <tr>\n",
       "      <th>3</th>\n",
       "      <td>0.5</td>\n",
       "      <td>1.0</td>\n",
       "      <td>1.0</td>\n",
       "      <td>1.0</td>\n",
       "      <td>0.5</td>\n",
       "      <td>1.0</td>\n",
       "      <td>0.5</td>\n",
       "      <td>1.0</td>\n",
       "      <td>1.0</td>\n",
       "      <td>0.50</td>\n",
       "      <td>...</td>\n",
       "      <td>0</td>\n",
       "      <td>0</td>\n",
       "      <td>0</td>\n",
       "      <td>0</td>\n",
       "      <td>0</td>\n",
       "      <td>0</td>\n",
       "      <td>0</td>\n",
       "      <td>0</td>\n",
       "      <td>0</td>\n",
       "      <td>0</td>\n",
       "    </tr>\n",
       "    <tr>\n",
       "      <th>4</th>\n",
       "      <td>0.5</td>\n",
       "      <td>1.0</td>\n",
       "      <td>1.0</td>\n",
       "      <td>1.0</td>\n",
       "      <td>0.5</td>\n",
       "      <td>1.0</td>\n",
       "      <td>0.5</td>\n",
       "      <td>1.0</td>\n",
       "      <td>1.0</td>\n",
       "      <td>0.50</td>\n",
       "      <td>...</td>\n",
       "      <td>0</td>\n",
       "      <td>0</td>\n",
       "      <td>0</td>\n",
       "      <td>0</td>\n",
       "      <td>0</td>\n",
       "      <td>0</td>\n",
       "      <td>0</td>\n",
       "      <td>0</td>\n",
       "      <td>0</td>\n",
       "      <td>0</td>\n",
       "    </tr>\n",
       "  </tbody>\n",
       "</table>\n",
       "<p>5 rows × 869 columns</p>\n",
       "</div>"
      ],
      "text/plain": [
       "   against_bug  against_dark  against_dragon  against_electric  against_fairy  \\\n",
       "0          1.0           1.0             1.0               0.5            0.5   \n",
       "1          1.0           1.0             1.0               0.5            0.5   \n",
       "2          1.0           1.0             1.0               0.5            0.5   \n",
       "3          0.5           1.0             1.0               1.0            0.5   \n",
       "4          0.5           1.0             1.0               1.0            0.5   \n",
       "\n",
       "   against_fight  against_fire  against_flying  against_ghost  against_grass  \\\n",
       "0            0.5           2.0             2.0            1.0           0.25   \n",
       "1            0.5           2.0             2.0            1.0           0.25   \n",
       "2            0.5           2.0             2.0            1.0           0.25   \n",
       "3            1.0           0.5             1.0            1.0           0.50   \n",
       "4            1.0           0.5             1.0            1.0           0.50   \n",
       "\n",
       "   ...  Analytic  Battle Bond  Flare Boost  Gooey  Heavy Metal  Moody  \\\n",
       "0  ...         0            0            0      0            0      0   \n",
       "1  ...         0            0            0      0            0      0   \n",
       "2  ...         0            0            0      0            0      0   \n",
       "3  ...         0            0            0      0            0      0   \n",
       "4  ...         0            0            0      0            0      0   \n",
       "\n",
       "   Surge Surfer  Tangling Hair  Galvanize  Power of Alchemy  \n",
       "0             0              0          0                 0  \n",
       "1             0              0          0                 0  \n",
       "2             0              0          0                 0  \n",
       "3             0              0          0                 0  \n",
       "4             0              0          0                 0  \n",
       "\n",
       "[5 rows x 869 columns]"
      ]
     },
     "execution_count": 187,
     "metadata": {},
     "output_type": "execute_result"
    }
   ],
   "source": [
    "data.head()"
   ]
  },
  {
   "cell_type": "code",
   "execution_count": 194,
   "metadata": {},
   "outputs": [],
   "source": [
    "data=data.drop([\"No\"],axis=1)"
   ]
  },
  {
   "cell_type": "code",
   "execution_count": 195,
   "metadata": {},
   "outputs": [],
   "source": [
    "response=data[\"is_legendary\"]\n",
    "data=data.drop([\"is_legendary\"],axis=1)"
   ]
  },
  {
   "cell_type": "code",
   "execution_count": 196,
   "metadata": {},
   "outputs": [],
   "source": [
    "from sklearn.preprocessing import StandardScaler\n",
    "sc_X = StandardScaler()"
   ]
  },
  {
   "cell_type": "code",
   "execution_count": 197,
   "metadata": {},
   "outputs": [],
   "source": [
    "from sklearn.model_selection import train_test_split\n",
    "x_train, x_test, y_train,y_test = train_test_split(data,response,test_size=0.2,random_state=0)"
   ]
  },
  {
   "cell_type": "code",
   "execution_count": 199,
   "metadata": {},
   "outputs": [],
   "source": [
    "x_train = sc_X.fit_transform(x_train)\n",
    "x_test = sc_X.fit_transform(x_test)"
   ]
  },
  {
   "cell_type": "code",
   "execution_count": 210,
   "metadata": {},
   "outputs": [
    {
     "data": {
      "text/plain": [
       "(161, 867)"
      ]
     },
     "execution_count": 210,
     "metadata": {},
     "output_type": "execute_result"
    }
   ],
   "source": [
    "x_test.shape"
   ]
  },
  {
   "cell_type": "code",
   "execution_count": 203,
   "metadata": {},
   "outputs": [
    {
     "name": "stderr",
     "output_type": "stream",
     "text": [
      "Using TensorFlow backend.\n"
     ]
    }
   ],
   "source": [
    "import keras\n",
    "from keras.models import Sequential\n",
    "from keras.layers import Dense\n",
    "\n",
    "classifier= Sequential()"
   ]
  },
  {
   "cell_type": "code",
   "execution_count": 204,
   "metadata": {},
   "outputs": [],
   "source": [
    "classifier.add(Dense(units=10, kernel_initializer='uniform', activation='relu',input_dim = 867))\n",
    "classifier.add(Dense(units=10,kernel_initializer='uniform',activation='relu'))\n",
    "classifier.add(Dense(units=1,kernel_initializer='uniform',activation='sigmoid'))\n",
    "classifier.compile(optimizer='adam', loss='binary_crossentropy',metrics=['accuracy'])"
   ]
  },
  {
   "cell_type": "code",
   "execution_count": 205,
   "metadata": {},
   "outputs": [
    {
     "name": "stdout",
     "output_type": "stream",
     "text": [
      "Epoch 1/100\n",
      "640/640 [==============================] - 2s 4ms/step - loss: 0.6522 - accuracy: 0.9125\n",
      "Epoch 2/100\n",
      "640/640 [==============================] - 0s 459us/step - loss: 0.3082 - accuracy: 0.9141\n",
      "Epoch 3/100\n",
      "640/640 [==============================] - 0s 470us/step - loss: 0.1402 - accuracy: 0.9141\n",
      "Epoch 4/100\n",
      "640/640 [==============================] - 0s 412us/step - loss: 0.1091 - accuracy: 0.9141\n",
      "Epoch 5/100\n",
      "640/640 [==============================] - 0s 477us/step - loss: 0.0936 - accuracy: 0.9141\n",
      "Epoch 6/100\n",
      "640/640 [==============================] - 0s 472us/step - loss: 0.0845 - accuracy: 0.9141\n",
      "Epoch 7/100\n",
      "640/640 [==============================] - 0s 430us/step - loss: 0.0777 - accuracy: 0.9141\n",
      "Epoch 8/100\n",
      "640/640 [==============================] - 0s 445us/step - loss: 0.0720 - accuracy: 0.9141\n",
      "Epoch 9/100\n",
      "640/640 [==============================] - 0s 480us/step - loss: 0.0689 - accuracy: 0.9141\n",
      "Epoch 10/100\n",
      "640/640 [==============================] - 0s 493us/step - loss: 0.0667 - accuracy: 0.9141\n",
      "Epoch 11/100\n",
      "640/640 [==============================] - 0s 459us/step - loss: 0.0652 - accuracy: 0.9812\n",
      "Epoch 12/100\n",
      "640/640 [==============================] - 0s 457us/step - loss: 0.0641 - accuracy: 0.9922\n",
      "Epoch 13/100\n",
      "640/640 [==============================] - 0s 431us/step - loss: 0.0630 - accuracy: 0.9937\n",
      "Epoch 14/100\n",
      "640/640 [==============================] - 0s 533us/step - loss: 0.0620 - accuracy: 0.9937\n",
      "Epoch 15/100\n",
      "640/640 [==============================] - 0s 547us/step - loss: 0.0610 - accuracy: 0.9937\n",
      "Epoch 16/100\n",
      "640/640 [==============================] - 0s 567us/step - loss: 0.0600 - accuracy: 0.9937\n",
      "Epoch 17/100\n",
      "640/640 [==============================] - 0s 631us/step - loss: 0.0590 - accuracy: 0.9937\n",
      "Epoch 18/100\n",
      "640/640 [==============================] - 0s 652us/step - loss: 0.0582 - accuracy: 0.9937\n",
      "Epoch 19/100\n",
      "640/640 [==============================] - 0s 568us/step - loss: 0.0572 - accuracy: 0.9937\n",
      "Epoch 20/100\n",
      "640/640 [==============================] - 0s 742us/step - loss: 0.0564 - accuracy: 0.9937\n",
      "Epoch 21/100\n",
      "640/640 [==============================] - 0s 556us/step - loss: 0.0555 - accuracy: 0.9937\n",
      "Epoch 22/100\n",
      "640/640 [==============================] - 0s 612us/step - loss: 0.0546 - accuracy: 0.9937\n",
      "Epoch 23/100\n",
      "640/640 [==============================] - 0s 657us/step - loss: 0.0537 - accuracy: 0.9937\n",
      "Epoch 24/100\n",
      "640/640 [==============================] - 0s 538us/step - loss: 0.0529 - accuracy: 0.9937\n",
      "Epoch 25/100\n",
      "640/640 [==============================] - 0s 641us/step - loss: 0.0521 - accuracy: 0.9937\n",
      "Epoch 26/100\n",
      "640/640 [==============================] - 0s 577us/step - loss: 0.0512 - accuracy: 0.9937\n",
      "Epoch 27/100\n",
      "640/640 [==============================] - 0s 614us/step - loss: 0.0504 - accuracy: 0.9937\n",
      "Epoch 28/100\n",
      "640/640 [==============================] - 0s 596us/step - loss: 0.0496 - accuracy: 0.9937\n",
      "Epoch 29/100\n",
      "640/640 [==============================] - 0s 561us/step - loss: 0.0488 - accuracy: 0.9937\n",
      "Epoch 30/100\n",
      "640/640 [==============================] - 0s 565us/step - loss: 0.0480 - accuracy: 0.9937\n",
      "Epoch 31/100\n",
      "640/640 [==============================] - 0s 493us/step - loss: 0.0473 - accuracy: 0.9937\n",
      "Epoch 32/100\n",
      "640/640 [==============================] - 0s 570us/step - loss: 0.0465 - accuracy: 0.9937\n",
      "Epoch 33/100\n",
      "640/640 [==============================] - 0s 422us/step - loss: 0.0458 - accuracy: 0.9937\n",
      "Epoch 34/100\n",
      "640/640 [==============================] - 0s 376us/step - loss: 0.0451 - accuracy: 0.9937\n",
      "Epoch 35/100\n",
      "640/640 [==============================] - 0s 387us/step - loss: 0.0444 - accuracy: 0.9937\n",
      "Epoch 36/100\n",
      "640/640 [==============================] - 0s 401us/step - loss: 0.0437 - accuracy: 0.9937\n",
      "Epoch 37/100\n",
      "640/640 [==============================] - 0s 472us/step - loss: 0.0430 - accuracy: 0.9937\n",
      "Epoch 38/100\n",
      "640/640 [==============================] - 0s 531us/step - loss: 0.0423 - accuracy: 0.9937\n",
      "Epoch 39/100\n",
      "640/640 [==============================] - 0s 515us/step - loss: 0.0417 - accuracy: 0.9937\n",
      "Epoch 40/100\n",
      "640/640 [==============================] - 0s 479us/step - loss: 0.0411 - accuracy: 0.9937\n",
      "Epoch 41/100\n",
      "640/640 [==============================] - 0s 374us/step - loss: 0.0404 - accuracy: 0.9937\n",
      "Epoch 42/100\n",
      "640/640 [==============================] - 0s 322us/step - loss: 0.0399 - accuracy: 0.9937\n",
      "Epoch 43/100\n",
      "640/640 [==============================] - 0s 340us/step - loss: 0.0393 - accuracy: 0.9937\n",
      "Epoch 44/100\n",
      "640/640 [==============================] - 0s 396us/step - loss: 0.0387 - accuracy: 0.9937\n",
      "Epoch 45/100\n",
      "640/640 [==============================] - 0s 371us/step - loss: 0.0382 - accuracy: 0.9937\n",
      "Epoch 46/100\n",
      "640/640 [==============================] - 0s 393us/step - loss: 0.0376 - accuracy: 0.9937\n",
      "Epoch 47/100\n",
      "640/640 [==============================] - 0s 414us/step - loss: 0.0371 - accuracy: 0.9937\n",
      "Epoch 48/100\n",
      "640/640 [==============================] - 0s 437us/step - loss: 0.0366 - accuracy: 0.9937\n",
      "Epoch 49/100\n",
      "640/640 [==============================] - 0s 406us/step - loss: 0.0361 - accuracy: 0.9937\n",
      "Epoch 50/100\n",
      "640/640 [==============================] - 0s 374us/step - loss: 0.0356 - accuracy: 0.9937\n",
      "Epoch 51/100\n",
      "640/640 [==============================] - 0s 364us/step - loss: 0.0352 - accuracy: 0.9937\n",
      "Epoch 52/100\n",
      "640/640 [==============================] - 0s 365us/step - loss: 0.0347 - accuracy: 0.9937\n",
      "Epoch 53/100\n",
      "640/640 [==============================] - 0s 347us/step - loss: 0.0343 - accuracy: 0.9937\n",
      "Epoch 54/100\n",
      "640/640 [==============================] - 0s 359us/step - loss: 0.0339 - accuracy: 0.9937\n",
      "Epoch 55/100\n",
      "640/640 [==============================] - 0s 355us/step - loss: 0.0335 - accuracy: 0.9937\n",
      "Epoch 56/100\n",
      "640/640 [==============================] - 0s 363us/step - loss: 0.0331 - accuracy: 0.9937\n",
      "Epoch 57/100\n",
      "640/640 [==============================] - 0s 350us/step - loss: 0.0327 - accuracy: 0.9937\n",
      "Epoch 58/100\n",
      "640/640 [==============================] - 0s 360us/step - loss: 0.0324 - accuracy: 0.9937\n",
      "Epoch 59/100\n",
      "640/640 [==============================] - 0s 354us/step - loss: 0.0320 - accuracy: 0.9937\n",
      "Epoch 60/100\n",
      "640/640 [==============================] - 0s 369us/step - loss: 0.0317 - accuracy: 0.9937\n",
      "Epoch 61/100\n",
      "640/640 [==============================] - 0s 429us/step - loss: 0.0313 - accuracy: 0.9937\n",
      "Epoch 62/100\n",
      "640/640 [==============================] - 0s 371us/step - loss: 0.0310 - accuracy: 0.9937\n",
      "Epoch 63/100\n",
      "640/640 [==============================] - 0s 379us/step - loss: 0.0307 - accuracy: 0.9937\n",
      "Epoch 64/100\n",
      "640/640 [==============================] - 0s 392us/step - loss: 0.0304 - accuracy: 0.9937\n",
      "Epoch 65/100\n",
      "640/640 [==============================] - 0s 423us/step - loss: 0.0301 - accuracy: 0.9937\n",
      "Epoch 66/100\n",
      "640/640 [==============================] - 0s 413us/step - loss: 0.0298 - accuracy: 0.9937\n",
      "Epoch 67/100\n",
      "640/640 [==============================] - 0s 363us/step - loss: 0.0296 - accuracy: 0.9937\n",
      "Epoch 68/100\n",
      "640/640 [==============================] - 0s 345us/step - loss: 0.0293 - accuracy: 0.9937\n",
      "Epoch 69/100\n",
      "640/640 [==============================] - 0s 423us/step - loss: 0.0291 - accuracy: 0.9937\n",
      "Epoch 70/100\n",
      "640/640 [==============================] - 0s 368us/step - loss: 0.0288 - accuracy: 0.9937\n",
      "Epoch 71/100\n",
      "640/640 [==============================] - 0s 381us/step - loss: 0.0286 - accuracy: 0.9937\n",
      "Epoch 72/100\n",
      "640/640 [==============================] - 0s 411us/step - loss: 0.0283 - accuracy: 0.9937\n",
      "Epoch 73/100\n",
      "640/640 [==============================] - 0s 397us/step - loss: 0.0281 - accuracy: 0.9937\n",
      "Epoch 74/100\n",
      "640/640 [==============================] - 0s 339us/step - loss: 0.0279 - accuracy: 0.9937\n",
      "Epoch 75/100\n",
      "640/640 [==============================] - 0s 373us/step - loss: 0.0277 - accuracy: 0.9937\n",
      "Epoch 76/100\n",
      "640/640 [==============================] - 0s 361us/step - loss: 0.0275 - accuracy: 0.9937\n",
      "Epoch 77/100\n",
      "640/640 [==============================] - 0s 346us/step - loss: 0.0274 - accuracy: 0.9937\n",
      "Epoch 78/100\n",
      "640/640 [==============================] - 0s 378us/step - loss: 0.0272 - accuracy: 0.9937\n",
      "Epoch 79/100\n"
     ]
    },
    {
     "name": "stdout",
     "output_type": "stream",
     "text": [
      "640/640 [==============================] - 0s 324us/step - loss: 0.0270 - accuracy: 0.9937\n",
      "Epoch 80/100\n",
      "640/640 [==============================] - 0s 349us/step - loss: 0.0268 - accuracy: 0.9937\n",
      "Epoch 81/100\n",
      "640/640 [==============================] - 0s 314us/step - loss: 0.0267 - accuracy: 0.9937\n",
      "Epoch 82/100\n",
      "640/640 [==============================] - 0s 328us/step - loss: 0.0265 - accuracy: 0.9937\n",
      "Epoch 83/100\n",
      "640/640 [==============================] - 0s 306us/step - loss: 0.0264 - accuracy: 0.9937\n",
      "Epoch 84/100\n",
      "640/640 [==============================] - 0s 320us/step - loss: 0.0263 - accuracy: 0.9937\n",
      "Epoch 85/100\n",
      "640/640 [==============================] - 0s 322us/step - loss: 0.0261 - accuracy: 0.9937\n",
      "Epoch 86/100\n",
      "640/640 [==============================] - 0s 379us/step - loss: 0.0260 - accuracy: 0.9937\n",
      "Epoch 87/100\n",
      "640/640 [==============================] - 0s 389us/step - loss: 0.0259 - accuracy: 0.9937\n",
      "Epoch 88/100\n",
      "640/640 [==============================] - 0s 329us/step - loss: 0.0257 - accuracy: 0.9937\n",
      "Epoch 89/100\n",
      "640/640 [==============================] - 0s 337us/step - loss: 0.0256 - accuracy: 0.9937\n",
      "Epoch 90/100\n",
      "640/640 [==============================] - 0s 366us/step - loss: 0.0255 - accuracy: 0.9937\n",
      "Epoch 91/100\n",
      "640/640 [==============================] - 0s 318us/step - loss: 0.0254 - accuracy: 0.9937\n",
      "Epoch 92/100\n",
      "640/640 [==============================] - 0s 322us/step - loss: 0.0253 - accuracy: 0.9937\n",
      "Epoch 93/100\n",
      "640/640 [==============================] - 0s 348us/step - loss: 0.0252 - accuracy: 0.9937\n",
      "Epoch 94/100\n",
      "640/640 [==============================] - 0s 348us/step - loss: 0.0251 - accuracy: 0.9937\n",
      "Epoch 95/100\n",
      "640/640 [==============================] - 0s 335us/step - loss: 0.0250 - accuracy: 0.9937\n",
      "Epoch 96/100\n",
      "640/640 [==============================] - 0s 313us/step - loss: 0.0250 - accuracy: 0.9937\n",
      "Epoch 97/100\n",
      "640/640 [==============================] - 0s 334us/step - loss: 0.0249 - accuracy: 0.9937\n",
      "Epoch 98/100\n",
      "640/640 [==============================] - 0s 378us/step - loss: 0.0248 - accuracy: 0.9937\n",
      "Epoch 99/100\n",
      "640/640 [==============================] - 0s 378us/step - loss: 0.0247 - accuracy: 0.9937\n",
      "Epoch 100/100\n",
      "640/640 [==============================] - 0s 343us/step - loss: 0.0246 - accuracy: 0.9937\n"
     ]
    },
    {
     "data": {
      "text/plain": [
       "<keras.callbacks.callbacks.History at 0x7fa69018c9d0>"
      ]
     },
     "execution_count": 205,
     "metadata": {},
     "output_type": "execute_result"
    }
   ],
   "source": [
    "classifier.fit(x_train,y_train,batch_size=10,epochs=100)"
   ]
  },
  {
   "cell_type": "code",
   "execution_count": 206,
   "metadata": {},
   "outputs": [],
   "source": [
    "pred = classifier.predict(x_test)"
   ]
  },
  {
   "cell_type": "code",
   "execution_count": 207,
   "metadata": {},
   "outputs": [],
   "source": [
    "y_pred = (pred > 0.5)"
   ]
  },
  {
   "cell_type": "code",
   "execution_count": 211,
   "metadata": {},
   "outputs": [
    {
     "data": {
      "text/plain": [
       "0.9565217391304348"
      ]
     },
     "execution_count": 211,
     "metadata": {},
     "output_type": "execute_result"
    }
   ],
   "source": [
    "accuracy_score(y_pred,y_test)"
   ]
  },
  {
   "cell_type": "code",
   "execution_count": null,
   "metadata": {},
   "outputs": [],
   "source": []
  }
 ],
 "metadata": {
  "kernelspec": {
   "display_name": "Python 3",
   "language": "python",
   "name": "python3"
  },
  "language_info": {
   "codemirror_mode": {
    "name": "ipython",
    "version": 3
   },
   "file_extension": ".py",
   "mimetype": "text/x-python",
   "name": "python",
   "nbconvert_exporter": "python",
   "pygments_lexer": "ipython3",
   "version": "3.7.6"
  }
 },
 "nbformat": 4,
 "nbformat_minor": 4
}
